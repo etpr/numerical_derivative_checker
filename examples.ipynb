{
 "cells": [
  {
   "cell_type": "code",
   "execution_count": 2,
   "metadata": {
    "collapsed": true
   },
   "outputs": [],
   "source": [
    "from numerical_derivative_checker import check_derivative, ScalarSampler, VectorSampler, PosDefMatrixSampler, MatrixSampler\n",
    "import numpy as np"
   ]
  },
  {
   "cell_type": "markdown",
   "metadata": {
    "pycharm": {
     "name": "#%% md\n"
    }
   },
   "source": [
    "$$f(x)=\\sin(x)\\\\f'(x)=\\cos(x)\\\\ f''(x)=-\\sin(x)$$"
   ]
  },
  {
   "cell_type": "code",
   "execution_count": 3,
   "metadata": {
    "pycharm": {
     "name": "#%%\n"
    }
   },
   "outputs": [
    {
     "data": {
      "text/plain": "True"
     },
     "execution_count": 3,
     "metadata": {},
     "output_type": "execute_result"
    }
   ],
   "source": [
    "check_derivative(sampler=ScalarSampler(n_samples=100),\n",
    "                     fun=lambda x: np.sin(x),\n",
    "                     grad=lambda x: np.cos(x),\n",
    "                     hess=lambda x: -np.sin(x))"
   ]
  },
  {
   "cell_type": "markdown",
   "source": [
    "$$f({x})=a{x}\\\\ f'({x})=a$$"
   ],
   "metadata": {
    "collapsed": false
   }
  },
  {
   "cell_type": "code",
   "execution_count": 4,
   "metadata": {
    "pycharm": {
     "name": "#%%\n"
    }
   },
   "outputs": [
    {
     "data": {
      "text/plain": "True"
     },
     "execution_count": 4,
     "metadata": {},
     "output_type": "execute_result"
    }
   ],
   "source": [
    "a = np.random.randn(3)\n",
    "check_derivative(sampler=ScalarSampler(min_val=0.0, max_val=10.0),\n",
    "                 fun=lambda x: a * x,\n",
    "                 grad=lambda x: a)"
   ]
  },
  {
   "cell_type": "markdown",
   "source": [
    "$$f(\\mathbf{x})=x^T x\\\\ f'(\\mathbf{x})=2 x\\\\ f''(\\mathbf{x})=2 I$$"
   ],
   "metadata": {
    "collapsed": false
   }
  },
  {
   "cell_type": "code",
   "execution_count": 5,
   "outputs": [
    {
     "data": {
      "text/plain": "True"
     },
     "execution_count": 5,
     "metadata": {},
     "output_type": "execute_result"
    }
   ],
   "source": [
    "check_derivative(sampler=VectorSampler(n=5),\n",
    "                 fun=lambda x: np.inner(x, x),\n",
    "                 grad=lambda x: 2.0 * x,\n",
    "                 hess=lambda x: 2.0 * np.eye(5))"
   ],
   "metadata": {
    "collapsed": false,
    "pycharm": {
     "name": "#%%\n"
    }
   }
  },
  {
   "cell_type": "markdown",
   "source": [
    "$$f(\\mathbf{x})=\\sqrt{x^T x} \\\\ f'(\\mathbf{x})=x / \\sqrt{x^T x}$$"
   ],
   "metadata": {
    "collapsed": false
   }
  },
  {
   "cell_type": "code",
   "execution_count": 6,
   "outputs": [
    {
     "data": {
      "text/plain": "True"
     },
     "execution_count": 6,
     "metadata": {},
     "output_type": "execute_result"
    }
   ],
   "source": [
    "check_derivative(sampler=VectorSampler(n=5),\n",
    "                 fun=lambda x: np.sqrt(np.dot(x, x)),\n",
    "                 grad=lambda x: x / np.sqrt(np.dot(x, x)))\n"
   ],
   "metadata": {
    "collapsed": false,
    "pycharm": {
     "name": "#%%\n"
    }
   }
  },
  {
   "cell_type": "markdown",
   "source": [
    "$$f(\\mathbf{x}) = \\mathbf{d} \\sqrt{((\\mathbf{x} - \\mathbf{b}) / c)^T ((\\mathbf{x} - \\mathbf{b}) / c)}$$\n",
    "$$f'(\\mathbf{x})=\\mathbf{d} \\frac{(\\mathbf{x} - \\mathbf{b})^T}{c\\sqrt{(\\mathbf{x} - \\mathbf{b})^T (\\mathbf{x} - \\mathbf{b})}}$$"
   ],
   "metadata": {
    "collapsed": false
   }
  },
  {
   "cell_type": "code",
   "execution_count": 7,
   "outputs": [
    {
     "data": {
      "text/plain": "True"
     },
     "execution_count": 7,
     "metadata": {},
     "output_type": "execute_result"
    }
   ],
   "source": [
    "b = np.random.randn(5)\n",
    "c = np.random.rand()\n",
    "d = np.random.randn(5)\n",
    "check_derivative(sampler=VectorSampler(n=5),\n",
    "                 fun=lambda x: d * np.sqrt(np.dot((x - b) / c, (x - b) / c)),\n",
    "                 grad=lambda x: np.outer(d, (x - b) / (c * np.sqrt(np.dot(x - b, x - b)))))"
   ],
   "metadata": {
    "collapsed": false,
    "pycharm": {
     "name": "#%%\n"
    }
   }
  },
  {
   "cell_type": "markdown",
   "source": [
    "$$f(\\mathbf{x})=x^T C x \\\\ f'(\\mathbf{x})= (C + C^T) x$$"
   ],
   "metadata": {
    "collapsed": false
   }
  },
  {
   "cell_type": "code",
   "execution_count": 8,
   "outputs": [
    {
     "data": {
      "text/plain": "True"
     },
     "execution_count": 8,
     "metadata": {},
     "output_type": "execute_result"
    }
   ],
   "source": [
    "C = np.random.rand(5, 5)\n",
    "check_derivative(sampler=VectorSampler(n=5),\n",
    "                 fun=lambda x: x @ C @ x,\n",
    "                 grad=lambda x: (C + C.T) @ x,\n",
    "                 tol=1e-3)"
   ],
   "metadata": {
    "collapsed": false,
    "pycharm": {
     "name": "#%%\n"
    }
   }
  },
  {
   "cell_type": "markdown",
   "source": [
    "$$\\mathcal{f}(\\mathbf{x})=A \\mathbf{x} \\\\ f'(\\mathbf{x})=A$$"
   ],
   "metadata": {
    "collapsed": false
   }
  },
  {
   "cell_type": "code",
   "execution_count": 9,
   "outputs": [
    {
     "data": {
      "text/plain": "True"
     },
     "execution_count": 9,
     "metadata": {},
     "output_type": "execute_result"
    }
   ],
   "source": [
    "A = np.random.rand(3, 5)\n",
    "check_derivative(sampler=VectorSampler(n=5),\n",
    "                 fun=lambda x: A @ x,\n",
    "                 grad=lambda x: A)"
   ],
   "metadata": {
    "collapsed": false,
    "pycharm": {
     "name": "#%%\n"
    }
   }
  },
  {
   "cell_type": "markdown",
   "source": [
    "$$f(X)=a^T X b \\\\ f'(X)=a b^T$$"
   ],
   "metadata": {
    "collapsed": false
   }
  },
  {
   "cell_type": "code",
   "execution_count": 10,
   "outputs": [
    {
     "data": {
      "text/plain": "True"
     },
     "execution_count": 10,
     "metadata": {},
     "output_type": "execute_result"
    }
   ],
   "source": [
    "a = np.random.rand(3)\n",
    "b = np.random.rand(5)\n",
    "check_derivative(sampler=MatrixSampler(n=3, m=5),\n",
    "                 fun=lambda x: a @ x @ b,\n",
    "                 grad=lambda x: np.outer(a, b),\n",
    "                 tol=1e-3)"
   ],
   "metadata": {
    "collapsed": false,
    "pycharm": {
     "name": "#%%\n"
    }
   }
  },
  {
   "cell_type": "markdown",
   "source": [
    "$$F(X)=\\log{(\\det{(X)})} \\\\ F'({X})=X^{-1}$$"
   ],
   "metadata": {
    "collapsed": false
   }
  },
  {
   "cell_type": "code",
   "execution_count": 11,
   "outputs": [
    {
     "data": {
      "text/plain": "True"
     },
     "execution_count": 11,
     "metadata": {},
     "output_type": "execute_result"
    }
   ],
   "source": [
    "check_derivative(sampler=PosDefMatrixSampler(n=3),\n",
    "                 fun=lambda x: np.log(np.linalg.det(x)),\n",
    "                 grad=lambda x: np.linalg.inv(x),\n",
    "                 tol=1e-3)"
   ],
   "metadata": {
    "collapsed": false,
    "pycharm": {
     "name": "#%%\n"
    }
   }
  },
  {
   "cell_type": "markdown",
   "source": [],
   "metadata": {
    "collapsed": false
   }
  }
 ],
 "metadata": {
  "kernelspec": {
   "display_name": "PyCharm (numerical_derivative_checker)",
   "language": "python",
   "name": "pycharm-add4081a"
  },
  "language_info": {
   "codemirror_mode": {
    "name": "ipython",
    "version": 3
   },
   "file_extension": ".py",
   "mimetype": "text/x-python",
   "name": "python",
   "nbconvert_exporter": "python",
   "pygments_lexer": "ipython3",
   "version": "3.7.9"
  }
 },
 "nbformat": 4,
 "nbformat_minor": 1
}